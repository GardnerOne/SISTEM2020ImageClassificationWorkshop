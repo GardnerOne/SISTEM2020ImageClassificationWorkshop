{
  "nbformat": 4,
  "nbformat_minor": 0,
  "metadata": {
    "colab": {
      "name": "MachineLearningNotebookTemplate",
      "provenance": [],
      "authorship_tag": "ABX9TyP0qxv5M8RO5ARMBwGQE2tM",
      "include_colab_link": true
    },
    "kernelspec": {
      "name": "python3",
      "display_name": "Python 3"
    },
    "accelerator": "GPU"
  },
  "cells": [
    {
      "cell_type": "markdown",
      "metadata": {
        "id": "view-in-github",
        "colab_type": "text"
      },
      "source": [
        "<a href=\"https://colab.research.google.com/github/andrew51017/SISTEM2020ImageClassificationWorkshop/blob/master/MachineLearningNotebookTemplate.ipynb\" target=\"_parent\"><img src=\"https://colab.research.google.com/assets/colab-badge.svg\" alt=\"Open In Colab\"/></a>"
      ]
    },
    {
      "cell_type": "code",
      "metadata": {
        "id": "E1_Qia1_J1p4",
        "colab_type": "code",
        "colab": {}
      },
      "source": [
        "import warnings\n",
        "warnings.filterwarnings('ignore')"
      ],
      "execution_count": 0,
      "outputs": []
    },
    {
      "cell_type": "markdown",
      "metadata": {
        "id": "gXxSsdWOFbs3",
        "colab_type": "text"
      },
      "source": [
        "# Download the dataset"
      ]
    },
    {
      "cell_type": "code",
      "metadata": {
        "id": "F3RCEcYDFhZq",
        "colab_type": "code",
        "colab": {}
      },
      "source": [
        ""
      ],
      "execution_count": 0,
      "outputs": []
    },
    {
      "cell_type": "markdown",
      "metadata": {
        "id": "XVn-NykRGio7",
        "colab_type": "text"
      },
      "source": [
        "# Unzip the dataset"
      ]
    },
    {
      "cell_type": "code",
      "metadata": {
        "id": "DgyBB2muGmSK",
        "colab_type": "code",
        "colab": {}
      },
      "source": [
        ""
      ],
      "execution_count": 0,
      "outputs": []
    },
    {
      "cell_type": "markdown",
      "metadata": {
        "id": "baW9oQf_IP3c",
        "colab_type": "text"
      },
      "source": [
        "# Setup our Training, Test and Validation datasets"
      ]
    },
    {
      "cell_type": "code",
      "metadata": {
        "id": "-soW_RVRIVIR",
        "colab_type": "code",
        "colab": {}
      },
      "source": [
        ""
      ],
      "execution_count": 0,
      "outputs": []
    },
    {
      "cell_type": "markdown",
      "metadata": {
        "id": "modIlyUXI6cz",
        "colab_type": "text"
      },
      "source": [
        "# Define our Model"
      ]
    },
    {
      "cell_type": "code",
      "metadata": {
        "id": "hEohsNMPJDK8",
        "colab_type": "code",
        "colab": {}
      },
      "source": [
        ""
      ],
      "execution_count": 0,
      "outputs": []
    },
    {
      "cell_type": "markdown",
      "metadata": {
        "id": "sJhoz2gGJU43",
        "colab_type": "text"
      },
      "source": [
        "# Train our model"
      ]
    },
    {
      "cell_type": "code",
      "metadata": {
        "id": "6AWGOsu5JWZg",
        "colab_type": "code",
        "colab": {}
      },
      "source": [
        ""
      ],
      "execution_count": 0,
      "outputs": []
    },
    {
      "cell_type": "markdown",
      "metadata": {
        "id": "fJtXdlUcYPqR",
        "colab_type": "text"
      },
      "source": [
        "# Use our Model"
      ]
    },
    {
      "cell_type": "code",
      "metadata": {
        "id": "1QJK4mqdYTEs",
        "colab_type": "code",
        "colab": {}
      },
      "source": [
        ""
      ],
      "execution_count": 0,
      "outputs": []
    }
  ]
}